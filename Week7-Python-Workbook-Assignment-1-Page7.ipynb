{
 "cells": [
  {
   "cell_type": "code",
   "execution_count": null,
   "metadata": {
    "collapsed": true
   },
   "outputs": [],
   "source": [
    "#Chapter 2 - Page 7 "
   ]
  },
  {
   "cell_type": "code",
   "execution_count": 11,
   "metadata": {
    "collapsed": false
   },
   "outputs": [],
   "source": [
    "import pandas as pd\n"
   ]
  },
  {
   "cell_type": "code",
   "execution_count": 12,
   "metadata": {
    "collapsed": true
   },
   "outputs": [],
   "source": [
    "df = pd.read_excel('C://Users/joy/Downloads/HEA01.xls')"
   ]
  },
  {
   "cell_type": "code",
   "execution_count": 13,
   "metadata": {
    "collapsed": false
   },
   "outputs": [
    {
     "data": {
      "text/html": [
       "<div>\n",
       "<table border=\"1\" class=\"dataframe\">\n",
       "  <thead>\n",
       "    <tr style=\"text-align: right;\">\n",
       "      <th></th>\n",
       "      <th>Areaname</th>\n",
       "      <th>STCOU</th>\n",
       "      <th>HEA010198F</th>\n",
       "      <th>HEA010198D</th>\n",
       "      <th>HEA010198N1</th>\n",
       "      <th>HEA010198N2</th>\n",
       "      <th>HEA010199F</th>\n",
       "      <th>HEA010199D</th>\n",
       "      <th>HEA010199N1</th>\n",
       "      <th>HEA010199N2</th>\n",
       "      <th>...</th>\n",
       "      <th>HEA010205N1</th>\n",
       "      <th>HEA010205N2</th>\n",
       "      <th>HEA010206F</th>\n",
       "      <th>HEA010206D</th>\n",
       "      <th>HEA010206N1</th>\n",
       "      <th>HEA010206N2</th>\n",
       "      <th>HEA010207F</th>\n",
       "      <th>HEA010207D</th>\n",
       "      <th>HEA010207N1</th>\n",
       "      <th>HEA010207N2</th>\n",
       "    </tr>\n",
       "  </thead>\n",
       "  <tbody>\n",
       "    <tr>\n",
       "      <th>0</th>\n",
       "      <td>UNITED STATES</td>\n",
       "      <td>0</td>\n",
       "      <td>1</td>\n",
       "      <td>37998035</td>\n",
       "      <td>7024</td>\n",
       "      <td>0</td>\n",
       "      <td>1</td>\n",
       "      <td>38299382</td>\n",
       "      <td>7024</td>\n",
       "      <td>0</td>\n",
       "      <td>...</td>\n",
       "      <td>7024</td>\n",
       "      <td>0</td>\n",
       "      <td>1</td>\n",
       "      <td>41963618</td>\n",
       "      <td>7024</td>\n",
       "      <td>0</td>\n",
       "      <td>1</td>\n",
       "      <td>43131635</td>\n",
       "      <td>7024</td>\n",
       "      <td>0</td>\n",
       "    </tr>\n",
       "    <tr>\n",
       "      <th>1</th>\n",
       "      <td>ALABAMA</td>\n",
       "      <td>1000</td>\n",
       "      <td>1</td>\n",
       "      <td>669585</td>\n",
       "      <td>7022</td>\n",
       "      <td>0</td>\n",
       "      <td>1</td>\n",
       "      <td>676569</td>\n",
       "      <td>7022</td>\n",
       "      <td>0</td>\n",
       "      <td>...</td>\n",
       "      <td>7022</td>\n",
       "      <td>0</td>\n",
       "      <td>1</td>\n",
       "      <td>764592</td>\n",
       "      <td>7022</td>\n",
       "      <td>0</td>\n",
       "      <td>1</td>\n",
       "      <td>785814</td>\n",
       "      <td>7022</td>\n",
       "      <td>0</td>\n",
       "    </tr>\n",
       "    <tr>\n",
       "      <th>2</th>\n",
       "      <td>Autauga, AL</td>\n",
       "      <td>1001</td>\n",
       "      <td>0</td>\n",
       "      <td>5064</td>\n",
       "      <td>0</td>\n",
       "      <td>0</td>\n",
       "      <td>0</td>\n",
       "      <td>5192</td>\n",
       "      <td>0</td>\n",
       "      <td>0</td>\n",
       "      <td>...</td>\n",
       "      <td>0</td>\n",
       "      <td>0</td>\n",
       "      <td>0</td>\n",
       "      <td>7018</td>\n",
       "      <td>0</td>\n",
       "      <td>0</td>\n",
       "      <td>0</td>\n",
       "      <td>7327</td>\n",
       "      <td>0</td>\n",
       "      <td>0</td>\n",
       "    </tr>\n",
       "    <tr>\n",
       "      <th>3</th>\n",
       "      <td>Baldwin, AL</td>\n",
       "      <td>1003</td>\n",
       "      <td>0</td>\n",
       "      <td>21915</td>\n",
       "      <td>0</td>\n",
       "      <td>0</td>\n",
       "      <td>0</td>\n",
       "      <td>22449</td>\n",
       "      <td>0</td>\n",
       "      <td>0</td>\n",
       "      <td>...</td>\n",
       "      <td>0</td>\n",
       "      <td>0</td>\n",
       "      <td>0</td>\n",
       "      <td>30130</td>\n",
       "      <td>0</td>\n",
       "      <td>0</td>\n",
       "      <td>0</td>\n",
       "      <td>31235</td>\n",
       "      <td>0</td>\n",
       "      <td>0</td>\n",
       "    </tr>\n",
       "    <tr>\n",
       "      <th>4</th>\n",
       "      <td>Barbour, AL</td>\n",
       "      <td>1005</td>\n",
       "      <td>0</td>\n",
       "      <td>4359</td>\n",
       "      <td>0</td>\n",
       "      <td>0</td>\n",
       "      <td>0</td>\n",
       "      <td>4389</td>\n",
       "      <td>0</td>\n",
       "      <td>0</td>\n",
       "      <td>...</td>\n",
       "      <td>0</td>\n",
       "      <td>0</td>\n",
       "      <td>0</td>\n",
       "      <td>4974</td>\n",
       "      <td>0</td>\n",
       "      <td>0</td>\n",
       "      <td>0</td>\n",
       "      <td>5075</td>\n",
       "      <td>0</td>\n",
       "      <td>0</td>\n",
       "    </tr>\n",
       "  </tbody>\n",
       "</table>\n",
       "<p>5 rows × 42 columns</p>\n",
       "</div>"
      ],
      "text/plain": [
       "        Areaname  STCOU  HEA010198F  HEA010198D  HEA010198N1  HEA010198N2  \\\n",
       "0  UNITED STATES      0           1    37998035         7024            0   \n",
       "1        ALABAMA   1000           1      669585         7022            0   \n",
       "2    Autauga, AL   1001           0        5064            0            0   \n",
       "3    Baldwin, AL   1003           0       21915            0            0   \n",
       "4    Barbour, AL   1005           0        4359            0            0   \n",
       "\n",
       "   HEA010199F  HEA010199D  HEA010199N1  HEA010199N2     ...       HEA010205N1  \\\n",
       "0           1    38299382         7024            0     ...              7024   \n",
       "1           1      676569         7022            0     ...              7022   \n",
       "2           0        5192            0            0     ...                 0   \n",
       "3           0       22449            0            0     ...                 0   \n",
       "4           0        4389            0            0     ...                 0   \n",
       "\n",
       "   HEA010205N2  HEA010206F  HEA010206D  HEA010206N1  HEA010206N2  HEA010207F  \\\n",
       "0            0           1    41963618         7024            0           1   \n",
       "1            0           1      764592         7022            0           1   \n",
       "2            0           0        7018            0            0           0   \n",
       "3            0           0       30130            0            0           0   \n",
       "4            0           0        4974            0            0           0   \n",
       "\n",
       "   HEA010207D  HEA010207N1  HEA010207N2  \n",
       "0    43131635         7024            0  \n",
       "1      785814         7022            0  \n",
       "2        7327            0            0  \n",
       "3       31235            0            0  \n",
       "4        5075            0            0  \n",
       "\n",
       "[5 rows x 42 columns]"
      ]
     },
     "execution_count": 13,
     "metadata": {},
     "output_type": "execute_result"
    }
   ],
   "source": [
    "df.head()"
   ]
  },
  {
   "cell_type": "code",
   "execution_count": 14,
   "metadata": {
    "collapsed": false
   },
   "outputs": [
    {
     "data": {
      "text/plain": [
       "(3198, 42)"
      ]
     },
     "execution_count": 14,
     "metadata": {},
     "output_type": "execute_result"
    }
   ],
   "source": [
    "df.shape"
   ]
  },
  {
   "cell_type": "code",
   "execution_count": 10,
   "metadata": {
    "collapsed": true
   },
   "outputs": [],
   "source": []
  },
  {
   "cell_type": "code",
   "execution_count": null,
   "metadata": {
    "collapsed": true
   },
   "outputs": [],
   "source": []
  }
 ],
 "metadata": {
  "kernelspec": {
   "display_name": "Python [default]",
   "language": "python",
   "name": "python3"
  },
  "language_info": {
   "codemirror_mode": {
    "name": "ipython",
    "version": 3
   },
   "file_extension": ".py",
   "mimetype": "text/x-python",
   "name": "python",
   "nbconvert_exporter": "python",
   "pygments_lexer": "ipython3",
   "version": "3.5.6"
  }
 },
 "nbformat": 4,
 "nbformat_minor": 2
}
