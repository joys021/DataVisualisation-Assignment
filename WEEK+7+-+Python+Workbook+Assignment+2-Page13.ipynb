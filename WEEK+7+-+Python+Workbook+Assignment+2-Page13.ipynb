{
 "cells": [
  {
   "cell_type": "code",
   "execution_count": 5,
   "metadata": {
    "collapsed": true
   },
   "outputs": [],
   "source": [
    "import pandas as pd\n",
    "import glob\n",
    "import os"
   ]
  },
  {
   "cell_type": "code",
   "execution_count": 6,
   "metadata": {
    "collapsed": false
   },
   "outputs": [],
   "source": [
    "path = r'C:\\Users\\joy\\Documents\\Data Viz\\datasets\\weekly_call_data'\n",
    "all_files = glob.glob(os.path.join(path, \"*.xlsx\"))"
   ]
  },
  {
   "cell_type": "code",
   "execution_count": 9,
   "metadata": {
    "collapsed": false
   },
   "outputs": [],
   "source": [
    "df_from_each_file = (pd.read_excel(f) for f in all_files)\n",
    "concatenated_df   = pd.concat(df_from_each_file, ignore_index=True)"
   ]
  },
  {
   "cell_type": "code",
   "execution_count": 10,
   "metadata": {
    "collapsed": false
   },
   "outputs": [
    {
     "data": {
      "text/html": [
       "<div>\n",
       "<table border=\"1\" class=\"dataframe\">\n",
       "  <thead>\n",
       "    <tr style=\"text-align: right;\">\n",
       "      <th></th>\n",
       "      <th>CallingNumber</th>\n",
       "      <th>DayOfWeek</th>\n",
       "      <th>TimeOfDay</th>\n",
       "      <th>CallDuration</th>\n",
       "      <th>ReasonForCall</th>\n",
       "      <th>AnsweringAgent</th>\n",
       "    </tr>\n",
       "  </thead>\n",
       "  <tbody>\n",
       "    <tr>\n",
       "      <th>0</th>\n",
       "      <td>774-823-8593</td>\n",
       "      <td>thu</td>\n",
       "      <td>10:30</td>\n",
       "      <td>20</td>\n",
       "      <td>Product Inquiry</td>\n",
       "      <td>Cameron</td>\n",
       "    </tr>\n",
       "    <tr>\n",
       "      <th>1</th>\n",
       "      <td>432-403-9821</td>\n",
       "      <td>fri</td>\n",
       "      <td>11:24</td>\n",
       "      <td>10</td>\n",
       "      <td>Complaint</td>\n",
       "      <td>Cameron</td>\n",
       "    </tr>\n",
       "    <tr>\n",
       "      <th>2</th>\n",
       "      <td>274-683-6814</td>\n",
       "      <td>tue</td>\n",
       "      <td>15:43</td>\n",
       "      <td>17</td>\n",
       "      <td>Technical Support</td>\n",
       "      <td>Kennedy</td>\n",
       "    </tr>\n",
       "    <tr>\n",
       "      <th>3</th>\n",
       "      <td>681-402-6913</td>\n",
       "      <td>tue</td>\n",
       "      <td>13:44</td>\n",
       "      <td>2</td>\n",
       "      <td>Technical Support</td>\n",
       "      <td>Lisa</td>\n",
       "    </tr>\n",
       "    <tr>\n",
       "      <th>4</th>\n",
       "      <td>242-336-6459</td>\n",
       "      <td>wed</td>\n",
       "      <td>10:50</td>\n",
       "      <td>19</td>\n",
       "      <td>Technical Support</td>\n",
       "      <td>Kennedy</td>\n",
       "    </tr>\n",
       "  </tbody>\n",
       "</table>\n",
       "</div>"
      ],
      "text/plain": [
       "  CallingNumber DayOfWeek TimeOfDay  CallDuration      ReasonForCall  \\\n",
       "0  774-823-8593       thu     10:30            20    Product Inquiry   \n",
       "1  432-403-9821       fri     11:24            10          Complaint   \n",
       "2  274-683-6814       tue     15:43            17  Technical Support   \n",
       "3  681-402-6913       tue     13:44             2  Technical Support   \n",
       "4  242-336-6459       wed     10:50            19  Technical Support   \n",
       "\n",
       "  AnsweringAgent  \n",
       "0        Cameron  \n",
       "1        Cameron  \n",
       "2        Kennedy  \n",
       "3           Lisa  \n",
       "4        Kennedy  "
      ]
     },
     "execution_count": 10,
     "metadata": {},
     "output_type": "execute_result"
    }
   ],
   "source": [
    "concatenated_df.head()"
   ]
  },
  {
   "cell_type": "code",
   "execution_count": 11,
   "metadata": {
    "collapsed": false
   },
   "outputs": [
    {
     "data": {
      "text/plain": [
       "(129588, 6)"
      ]
     },
     "execution_count": 11,
     "metadata": {},
     "output_type": "execute_result"
    }
   ],
   "source": [
    "concatenated_df.shape"
   ]
  },
  {
   "cell_type": "code",
   "execution_count": null,
   "metadata": {
    "collapsed": true
   },
   "outputs": [],
   "source": []
  }
 ],
 "metadata": {
  "anaconda-cloud": {},
  "kernelspec": {
   "display_name": "Python [default]",
   "language": "python",
   "name": "python3"
  },
  "language_info": {
   "codemirror_mode": {
    "name": "ipython",
    "version": 3
   },
   "file_extension": ".py",
   "mimetype": "text/x-python",
   "name": "python",
   "nbconvert_exporter": "python",
   "pygments_lexer": "ipython3",
   "version": "3.5.6"
  }
 },
 "nbformat": 4,
 "nbformat_minor": 2
}
